{
 "cells": [
  {
   "cell_type": "markdown",
   "id": "ecb771b0-2eda-418b-8a51-8e08deb06d19",
   "metadata": {},
   "source": [
    "# Quation 1"
   ]
  },
  {
   "cell_type": "markdown",
   "id": "1d272a90-c8af-4c39-ae13-9a192873cdfd",
   "metadata": {},
   "source": [
    "Data Encoding refers to the process of converting data from one format or representation to another.in the context\n",
    "of data science,encoding is perticularly important when dealing with categorical variables or non numeric data.\n",
    "\n",
    "\n",
    "Algorithm Compatibility: Many machine learning algorithms require numerical input. Encoding allows you to represent categorical data in a way that these algorithms can process.\n",
    "\n",
    "Improved Model Performance: Encoding categorical variables correctly can enhance the performance of machine learning models. Models may misinterpret categorical data as ordinal or continuous if not appropriately encoded.\n",
    "\n",
    "Reduced Dimensionality: Encoding techniques like one-hot encoding can increase the dimensionality of the dataset, but they can also provide a more accurate representation of the relationships between categorical variables."
   ]
  },
  {
   "cell_type": "markdown",
   "id": "e8b4601e-b0ad-4366-8e48-5aefc6cf0ecd",
   "metadata": {},
   "source": [
    "# Quation 2"
   ]
  },
  {
   "cell_type": "markdown",
   "id": "9f68ef9a-bc66-4b0f-b03d-4279970a527f",
   "metadata": {},
   "source": [
    "Nominal Encoding is a technique to used to represent categorical variable without assigning any inherent order or ranking among the categories. it is suitable for nominal data where there is no meaning full order.\n",
    "\n",
    "real-world Scenario: imagine you are working on a machine learning project to predict fuel efficiency based on various feature,including\n",
    "the car model and fual type Nominal encoding, such as one-hot encoding the 'Fuel Type' variable, would be essential to represent categorical information in a format that machine learning algorithms can effectively utilize. This encoding ensures that the model understands the distinction between different fuel types without implying any ordinal relationship between them."
   ]
  },
  {
   "cell_type": "markdown",
   "id": "6a51c86a-a92a-4308-81ec-84c10972422e",
   "metadata": {},
   "source": [
    "# Quation 3"
   ]
  },
  {
   "cell_type": "markdown",
   "id": "597fab09-6e83-4dba-a0b3-12cb36b67386",
   "metadata": {},
   "source": [
    "1)when over feature contain small number of uniqe categories.\n",
    "2)it is preferred when the categories have no meaningful order or ranking.\n",
    "ex:\n",
    "consider a dataset containing information about movies,and one of the categorical variable is genre genre such as action,comedy\n",
    "and drama do not have inherent order.using nominal encoding.using nominal encoding you can represnt each genre as a binary column,\n",
    "indicating whether a particular movie belong to a specific genre or not."
   ]
  },
  {
   "cell_type": "markdown",
   "id": "635589ff-4546-474e-a778-c3bc1fa5c3cb",
   "metadata": {},
   "source": [
    "# Quation 4"
   ]
  },
  {
   "cell_type": "markdown",
   "id": "3b04ef9e-84a8-4451-958b-72810a148bb6",
   "metadata": {},
   "source": [
    "If you have a categorical variable with 5 unique values and there is no inherent order or hierarchy among them, one suitable encoding technique is one-hot encoding. Here's why:\n",
    "\n",
    "No Inherent Order:\n",
    "One-hot encoding is appropriate when the categories have no inherent order or ranking. It treats each category as independent, creating binary columns for each unique value.\n",
    "\n",
    "Preserving Independence:\n",
    "One-hot encoding ensures that each category is represented by its own binary column, preserving the independence of the categories.\n",
    "\n",
    "Machine Learning Compatibility:\n",
    "Many machine learning algorithms require numerical input. One-hot encoding allows you to represent categorical data in a numerical format that is suitable for these algorithm"
   ]
  },
  {
   "cell_type": "markdown",
   "id": "dd31ad4f-3d15-424d-a944-695f062b32d2",
   "metadata": {},
   "source": [
    "# Quation 5"
   ]
  },
  {
   "cell_type": "markdown",
   "id": "6e70385c-fde0-4e66-bd1f-b9c4f39d15ab",
   "metadata": {},
   "source": [
    "For nominal encoding, specifically one-hot encoding, each unique category in a categorical column is represented by its own binary column. Therefore, the number of new columns created is equal to the total number of unique categories across both categorical columns.\n",
    "\n",
    "Let's denote the number of unique categories in the first categorical column as \n",
    "m and the number of unique categories in the second categorical column as n.\n",
    "\n",
    "In this scenario, with two categorical columns, the total number of new columns created (k) would be:\n",
    "k=m+n"
   ]
  },
  {
   "cell_type": "markdown",
   "id": "0141ba83-70a3-4323-837e-bc5b646a0e07",
   "metadata": {},
   "source": [
    "# Quation 6"
   ]
  },
  {
   "cell_type": "markdown",
   "id": "825894b4-f931-4c2e-b769-ab13769037f1",
   "metadata": {},
   "source": [
    "For a dataset containing information about different types of animals with categorical variables such as species, habitat, and diet, a suitable encoding technique would be a combination of label encoding and one-hot encoding. Here's the justification:\n",
    "\n",
    "Label Encoding for Ordinal Variables:\n",
    "\n",
    "If there is any ordinality or inherent order among categories within a variable (e.g., an ordinal scale for diet preferences), you can use label encoding to represent them with numerical values while preserving their order.\n",
    "One-Hot Encoding for Nominal Variables:\n",
    "\n",
    "For categorical variables without inherent order (e.g., species, habitat), one-hot encoding is suitable. It creates binary columns for each unique category, representing the presence or absence of that category for each observation."
   ]
  },
  {
   "cell_type": "code",
   "execution_count": null,
   "id": "c5293a94-4d84-4fb2-88fb-dfd65c02be63",
   "metadata": {},
   "outputs": [],
   "source": [
    "import pandas as pd\n",
    "from sklearn.preprocessing import OneHotEncoder,LabelEncoder\n",
    "data = {\n",
    "    'Species': ['Lion', 'Monkey', 'Snake', 'Monkey', 'Lion'],\n",
    "    'Habitat': ['Forest', 'Jungle', 'Desert', 'Jungle', 'Savannah'],\n",
    "    'Diet': ['Carnivore', 'Herbivore', 'Carnivore', 'Herbivore','Carnivore']\n",
    "}\n",
    "df=pd.DataFrame(data)\n",
    "encoder1,encoder2=OneHotEncoder(),LabelEncoder()\n",
    "encoder1.fit_transform(df['Species'])\n",
    "encoder2.fit_transform(df[['Habitat','Diet']])"
   ]
  },
  {
   "cell_type": "markdown",
   "id": "c592aca1-8cf2-4ae4-9de0-f2c7acb3a68e",
   "metadata": {},
   "source": [
    "# Quation 7"
   ]
  },
  {
   "cell_type": "markdown",
   "id": "d72824c4-f2e5-4e93-ba86-efc542a0bef1",
   "metadata": {},
   "source": [
    "In the context of predicting customer churn for a telecommunications company with a dataset containing features like gender, contract type, etc., you would likely use a combination of label encoding and one-hot encoding. Here's a step-by-step explanation of how you might implement the encoding:\n",
    "\n",
    "Identify Categorical Variables:\n",
    "\n",
    "Identify which features are categorical. In your case, 'gender' and 'contract type' are categorical.\n",
    "Label Encoding for Binary Categorical Variables:\n",
    "\n",
    "For binary categorical variables like 'gender,' you can use label encoding. It assigns 0 or 1 to represent the two categories.\n",
    "One-Hot Encoding for Non-Binary Categorical Variables:\n",
    "\n",
    "For non-binary categorical variables like 'contract type,' use one-hot encoding. This technique creates binary columns for each unique category"
   ]
  },
  {
   "cell_type": "code",
   "execution_count": 7,
   "id": "40be5916-50e2-423f-be56-8914213bbb48",
   "metadata": {},
   "outputs": [],
   "source": [
    "import pandas as pd\n",
    "from sklearn.preprocessing import OneHotEncoder,LabelEncoder"
   ]
  },
  {
   "cell_type": "code",
   "execution_count": 9,
   "id": "023bad02-02cb-433f-a967-e91a884543fe",
   "metadata": {},
   "outputs": [],
   "source": [
    "data = {\n",
    "    'Gender': ['Male', 'Female', 'Male', 'Female', 'Male'],\n",
    "    'Age': [25,30,35,40,45],\n",
    "    'Contract_Type': ['Month-to-month', 'One year', 'Month-to-month', 'Two year', 'One year'],\n",
    "    'Monthly_Charges': [50,60,70,80,90],\n",
    "    'Tenure': [12,24,36,48,60]\n",
    "}\n",
    "df=pd.DataFrame(data)"
   ]
  },
  {
   "cell_type": "code",
   "execution_count": 10,
   "id": "8078c177-bf6f-471d-af64-8ea4cefb9d5d",
   "metadata": {},
   "outputs": [],
   "source": [
    "encoder1=OneHotEncoder()\n",
    "encoder2=LabelEncoder()"
   ]
  },
  {
   "cell_type": "code",
   "execution_count": 11,
   "id": "48c8361e-1ef2-44ca-9136-de8751b97bad",
   "metadata": {},
   "outputs": [
    {
     "name": "stderr",
     "output_type": "stream",
     "text": [
      "/opt/conda/lib/python3.10/site-packages/sklearn/preprocessing/_label.py:116: DataConversionWarning: A column-vector y was passed when a 1d array was expected. Please change the shape of y to (n_samples, ), for example using ravel().\n",
      "  y = column_or_1d(y, warn=True)\n"
     ]
    },
    {
     "data": {
      "text/plain": [
       "array([1, 0, 1, 0, 1])"
      ]
     },
     "execution_count": 11,
     "metadata": {},
     "output_type": "execute_result"
    }
   ],
   "source": [
    "encoder2.fit_transform(df[['Gender']])"
   ]
  },
  {
   "cell_type": "code",
   "execution_count": 14,
   "id": "e708ca07-0a0d-451d-a31c-f950b1055c65",
   "metadata": {},
   "outputs": [
    {
     "data": {
      "text/plain": [
       "<5x3 sparse matrix of type '<class 'numpy.float64'>'\n",
       "\twith 5 stored elements in Compressed Sparse Row format>"
      ]
     },
     "execution_count": 14,
     "metadata": {},
     "output_type": "execute_result"
    }
   ],
   "source": [
    "encoder1.fit_transform(df[['Contract_Type']])"
   ]
  },
  {
   "cell_type": "code",
   "execution_count": null,
   "id": "3a59a75b-f9f3-43d0-912d-fb9173918f0c",
   "metadata": {},
   "outputs": [],
   "source": []
  }
 ],
 "metadata": {
  "kernelspec": {
   "display_name": "Python 3 (ipykernel)",
   "language": "python",
   "name": "python3"
  },
  "language_info": {
   "codemirror_mode": {
    "name": "ipython",
    "version": 3
   },
   "file_extension": ".py",
   "mimetype": "text/x-python",
   "name": "python",
   "nbconvert_exporter": "python",
   "pygments_lexer": "ipython3",
   "version": "3.10.8"
  }
 },
 "nbformat": 4,
 "nbformat_minor": 5
}
